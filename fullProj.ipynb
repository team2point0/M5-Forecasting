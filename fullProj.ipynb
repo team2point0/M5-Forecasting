{
 "nbformat": 4,
 "nbformat_minor": 2,
 "metadata": {
  "language_info": {
   "name": "python",
   "codemirror_mode": {
    "name": "ipython",
    "version": 3
   },
   "version": "3.6.10-final"
  },
  "orig_nbformat": 2,
  "file_extension": ".py",
  "mimetype": "text/x-python",
  "name": "python",
  "npconvert_exporter": "python",
  "pygments_lexer": "ipython3",
  "version": 3,
  "kernelspec": {
   "name": "python361064bitacocondac17bd05533524cec8f314ba0432b377a",
   "display_name": "Python 3.6.10 64-bit ('ACO': conda)"
  }
 },
 "cells": [
  {
   "cell_type": "code",
   "execution_count": 128,
   "metadata": {},
   "outputs": [],
   "source": [
    "import os\n",
    "import pandas as pd\n",
    "import numpy as np\n",
    "import seaborn as sns\n",
    "import matplotlib.pyplot as plt\n",
    "import statsmodels.api as sm\n",
    "\n",
    "import evaluator\n",
    "\n",
    "from sklearn.linear_model import LinearRegression\n",
    "from sklearn import metrics"
   ]
  },
  {
   "cell_type": "code",
   "execution_count": 129,
   "metadata": {},
   "outputs": [],
   "source": [
    "calendar_path = os.path.join(os.getcwd(), 'data', 'calendar.csv')\n",
    "trainDF_path = os.path.join(os.getcwd(), 'data', 'sales_train_validation.csv')\n",
    "pricesDF_path = os.path.join(os.getcwd(), 'data', 'sell_prices.csv')\n",
    "\n",
    "df = pd.read_csv(trainDF_path)\n",
    "calendarDF = pd.read_csv(calendar_path)\n",
    "pricesDF = pd.read_csv(pricesDF_path)"
   ]
  },
  {
   "cell_type": "code",
   "execution_count": 355,
   "metadata": {},
   "outputs": [],
   "source": [
    "\n",
    "# validation starts at 1885, so training # days is validation-dayStart\n",
    "dayStart = 1155\n",
    "\n",
    "\n",
    "dfTrainFull = df.iloc[:, :-28]\n",
    "dfValid = df.iloc[:, -28:].copy()\n",
    "dfTrain = df.iloc[:, 6+(dayStart-1):-28]\n",
    "dfLabels = df.iloc[:, :6]\n",
    "\n",
    "# pd.concat([dfLabels, dfTrain], axis=1)"
   ]
  },
  {
   "cell_type": "code",
   "execution_count": 356,
   "metadata": {},
   "outputs": [],
   "source": [
    "# prepare X data \n",
    "\n",
    "# make dummies\n",
    "xDF = pd.get_dummies(calendarDF.fillna(0), columns=['event_name_1', 'event_name_2', 'wday','month'])\n",
    "# xDF = pd.get_dummies(calendarDF.fillna(0), columns=['event_name_1', 'event_name_2', 'wday'])\n",
    "\n",
    "# merge duplicate events\n",
    "xDF['event_name_1_Easter'] = xDF['event_name_1_Easter'] + xDF['event_name_2_Easter']\n",
    "xDF['event_name_1_Cinco De Mayo'] = xDF['event_name_1_Cinco De Mayo'] + xDF['event_name_2_Cinco De Mayo']\n",
    "xDF['event_name_1_OrthodoxEaster'] = xDF['event_name_1_OrthodoxEaster'] + xDF['event_name_2_OrthodoxEaster']\n",
    "xDF[\"event_name_1_Father's day\"] = xDF[\"event_name_1_Father's day\"] + xDF[\"event_name_2_Father's day\"]\n",
    "\n",
    "# remove duplicates\n",
    "columnList = ['event_name_1_Chanukah End', 'event_name_1_Christmas',\n",
    "       'event_name_1_Cinco De Mayo', 'event_name_1_ColumbusDay',\n",
    "       'event_name_1_Easter', 'event_name_1_Eid al-Fitr',\n",
    "       'event_name_1_EidAlAdha', \"event_name_1_Father's day\",\n",
    "       'event_name_1_Halloween', 'event_name_1_IndependenceDay',\n",
    "       'event_name_1_LaborDay', 'event_name_1_LentStart',\n",
    "       'event_name_1_LentWeek2', 'event_name_1_MartinLutherKingDay',\n",
    "       'event_name_1_MemorialDay', \"event_name_1_Mother's day\",\n",
    "       'event_name_1_NBAFinalsEnd', 'event_name_1_NBAFinalsStart',\n",
    "       'event_name_1_NewYear', 'event_name_1_OrthodoxChristmas',\n",
    "       'event_name_1_OrthodoxEaster', 'event_name_1_Pesach End',\n",
    "       'event_name_1_PresidentsDay', 'event_name_1_Purim End',\n",
    "       'event_name_1_Ramadan starts', 'event_name_1_StPatricksDay',\n",
    "       'event_name_1_SuperBowl', 'event_name_1_Thanksgiving',\n",
    "       'event_name_1_ValentinesDay', 'event_name_1_VeteransDay', \n",
    "       'wday_1', 'wday_2', 'wday_3', 'wday_4', 'wday_5', 'wday_6', 'wday_7',\n",
    "       'month_1', 'month_2', 'month_3', 'month_4', 'month_5', 'month_6',\n",
    "       'month_7', 'month_8', 'month_9', 'month_10', 'month_11', 'month_12']\n",
    "xDF = xDF[columnList]\n",
    "\n",
    "dayNum = pd.DataFrame(np.arange(1,len(xDF)+2),columns=['dayNum'])\n",
    "\n",
    "xDF['dayNum'] = dayNum\n"
   ]
  },
  {
   "cell_type": "code",
   "execution_count": 361,
   "metadata": {
    "tags": [
     "outputPrepend",
     "outputPrepend",
     "outputPrepend",
     "outputPrepend",
     "outputPrepend",
     "outputPrepend",
     "outputPrepend",
     "outputPrepend",
     "outputPrepend",
     "outputPrepend",
     "outputPrepend",
     "outputPrepend"
    ]
   },
   "outputs": [
    {
     "output_type": "stream",
     "name": "stdout",
     "text": "0\n1000\n2000\n3000\n4000\n5000\n6000\n7000\n8000\n9000\n10000\n11000\n12000\n13000\n14000\n15000\n16000\n17000\n18000\n19000\n20000\n21000\n22000\n23000\n24000\n25000\n26000\n27000\n28000\n29000\n30000\n"
    }
   ],
   "source": [
    "\n",
    "\n",
    "ydfPred = pd.DataFrame(columns=dfValid.columns.tolist())\n",
    "\n",
    "xTrain = xDF.iloc[dayStart-1:dayStart-1+dfTrain.shape[1],:]\n",
    "xTest = xDF.iloc[dayStart-1+dfTrain.shape[1]:dayStart-1+dfTrain.shape[1]+28,:]\n",
    "\n",
    "for i in range(0,int(len(dfTrain))):\n",
    "\n",
    "    yTrain = dfTrain.iloc[i,:]\n",
    "\n",
    "    regressor = LinearRegression()  \n",
    "    regressor.fit(xTrain, yTrain)\n",
    "\n",
    "    yPred = regressor.predict(xTest)\n",
    "\n",
    "    ydfPred = ydfPred.append(pd.Series(yPred.round(), index=dfValid.columns.tolist()), ignore_index=True)\n",
    "\n",
    "    if i % 1000 == 0:\n",
    "        print(i)\n",
    "out of to make sure it isn't hung# "
   ]
  },
  {
   "cell_type": "code",
   "execution_count": 362,
   "metadata": {},
   "outputs": [
    {
     "output_type": "stream",
     "name": "stderr",
     "text": "92%|█████████▏| 11/12 [00:00<00:00, 37.02it/s]"
    }
   ],
   "source": [
    "# input dimensions must be 30490 x 28\n",
    "e = evaluator.WRMSSEEvaluator(dfTrainFull, dfValid, calendarDF, pricesDF)"
   ]
  },
  {
   "cell_type": "code",
   "execution_count": 363,
   "metadata": {},
   "outputs": [
    {
     "output_type": "execute_result",
     "data": {
      "text/plain": "0.871014916611208"
     },
     "metadata": {},
     "execution_count": 363
    }
   ],
   "source": [
    "# score results - as of 3/24 current leaders are at something like .55\n",
    "e.score(ydfPred)\n",
    "\n",
    "# # totally naive \"last 28 days\"\n",
    "# e.score(dfTrain.iloc[:,-28:].rename(columns=dict(zip(dfTrain.iloc[:,-28:].columns.tolist(), dfValid.columns.tolist()))))"
   ]
  },
  {
   "cell_type": "code",
   "execution_count": 364,
   "metadata": {},
   "outputs": [
    {
     "output_type": "execute_result",
     "data": {
      "text/plain": "       d_1886  d_1887  d_1888  d_1889  d_1890  d_1891  d_1892  d_1893  d_1894  \\\n0         1.0     1.0     1.0     1.0     1.0     1.0     1.0     1.0     1.0   \n1         0.0     0.0     0.0     0.0     0.0     0.0     0.0     0.0     0.0   \n2         1.0     1.0     1.0     1.0     1.0     1.0     1.0     1.0     1.0   \n3         1.0     1.0     1.0     1.0     2.0     3.0     4.0     1.0     1.0   \n4         1.0     1.0     1.0     1.0     1.0     2.0     2.0     1.0     1.0   \n...       ...     ...     ...     ...     ...     ...     ...     ...     ...   \n30485     1.0     1.0     1.0     1.0     1.0     1.0     1.0     1.0     1.0   \n30486    -0.0    -0.0    -0.0    -0.0     0.0     0.0     0.0     0.0     0.0   \n30487     1.0     1.0     1.0     1.0     1.0     1.0     1.0     0.0     0.0   \n30488     1.0     1.0     1.0     1.0     1.0     1.0     2.0     1.0     1.0   \n30489     1.0     2.0     1.0     1.0     2.0     3.0     2.0     2.0     2.0   \n\n       d_1895  ...  d_1904  d_1905  d_1906  d_1907  d_1908  d_1909  d_1910  \\\n0         1.0  ...     1.0     1.0     1.0     1.0     1.0     1.0     0.0   \n1         0.0  ...     0.0     0.0     0.0     0.0     0.0     0.0     0.0   \n2         1.0  ...     1.0     1.0     1.0     1.0     1.0     1.0     1.0   \n3         1.0  ...     2.0     3.0     4.0     1.0     1.0     1.0     1.0   \n4         1.0  ...     1.0     2.0     2.0     1.0     1.0     1.0     1.0   \n...       ...  ...     ...     ...     ...     ...     ...     ...     ...   \n30485     1.0  ...     1.0     1.0     1.0     1.0     1.0     1.0     1.0   \n30486     0.0  ...     0.0     0.0     0.0     0.0     0.0     0.0     0.0   \n30487     1.0  ...     1.0     1.0     1.0     0.0     0.0     1.0     0.0   \n30488     1.0  ...     1.0     1.0     2.0     1.0     1.0     1.0     1.0   \n30489     2.0  ...     2.0     3.0     2.0     2.0     2.0     2.0     2.0   \n\n       d_1911  d_1912  d_1913  \n0         1.0     1.0     1.0  \n1         0.0     0.0     0.0  \n2         1.0     1.0     1.0  \n3         2.0     3.0     4.0  \n4         1.0     2.0     2.0  \n...       ...     ...     ...  \n30485     1.0     1.0     1.0  \n30486     0.0     0.0     0.0  \n30487     1.0     1.0     1.0  \n30488     1.0     1.0     2.0  \n30489     2.0     3.0     2.0  \n\n[30490 rows x 28 columns]",
      "text/html": "<div>\n<style scoped>\n    .dataframe tbody tr th:only-of-type {\n        vertical-align: middle;\n    }\n\n    .dataframe tbody tr th {\n        vertical-align: top;\n    }\n\n    .dataframe thead th {\n        text-align: right;\n    }\n</style>\n<table border=\"1\" class=\"dataframe\">\n  <thead>\n    <tr style=\"text-align: right;\">\n      <th></th>\n      <th>d_1886</th>\n      <th>d_1887</th>\n      <th>d_1888</th>\n      <th>d_1889</th>\n      <th>d_1890</th>\n      <th>d_1891</th>\n      <th>d_1892</th>\n      <th>d_1893</th>\n      <th>d_1894</th>\n      <th>d_1895</th>\n      <th>...</th>\n      <th>d_1904</th>\n      <th>d_1905</th>\n      <th>d_1906</th>\n      <th>d_1907</th>\n      <th>d_1908</th>\n      <th>d_1909</th>\n      <th>d_1910</th>\n      <th>d_1911</th>\n      <th>d_1912</th>\n      <th>d_1913</th>\n    </tr>\n  </thead>\n  <tbody>\n    <tr>\n      <th>0</th>\n      <td>1.0</td>\n      <td>1.0</td>\n      <td>1.0</td>\n      <td>1.0</td>\n      <td>1.0</td>\n      <td>1.0</td>\n      <td>1.0</td>\n      <td>1.0</td>\n      <td>1.0</td>\n      <td>1.0</td>\n      <td>...</td>\n      <td>1.0</td>\n      <td>1.0</td>\n      <td>1.0</td>\n      <td>1.0</td>\n      <td>1.0</td>\n      <td>1.0</td>\n      <td>0.0</td>\n      <td>1.0</td>\n      <td>1.0</td>\n      <td>1.0</td>\n    </tr>\n    <tr>\n      <th>1</th>\n      <td>0.0</td>\n      <td>0.0</td>\n      <td>0.0</td>\n      <td>0.0</td>\n      <td>0.0</td>\n      <td>0.0</td>\n      <td>0.0</td>\n      <td>0.0</td>\n      <td>0.0</td>\n      <td>0.0</td>\n      <td>...</td>\n      <td>0.0</td>\n      <td>0.0</td>\n      <td>0.0</td>\n      <td>0.0</td>\n      <td>0.0</td>\n      <td>0.0</td>\n      <td>0.0</td>\n      <td>0.0</td>\n      <td>0.0</td>\n      <td>0.0</td>\n    </tr>\n    <tr>\n      <th>2</th>\n      <td>1.0</td>\n      <td>1.0</td>\n      <td>1.0</td>\n      <td>1.0</td>\n      <td>1.0</td>\n      <td>1.0</td>\n      <td>1.0</td>\n      <td>1.0</td>\n      <td>1.0</td>\n      <td>1.0</td>\n      <td>...</td>\n      <td>1.0</td>\n      <td>1.0</td>\n      <td>1.0</td>\n      <td>1.0</td>\n      <td>1.0</td>\n      <td>1.0</td>\n      <td>1.0</td>\n      <td>1.0</td>\n      <td>1.0</td>\n      <td>1.0</td>\n    </tr>\n    <tr>\n      <th>3</th>\n      <td>1.0</td>\n      <td>1.0</td>\n      <td>1.0</td>\n      <td>1.0</td>\n      <td>2.0</td>\n      <td>3.0</td>\n      <td>4.0</td>\n      <td>1.0</td>\n      <td>1.0</td>\n      <td>1.0</td>\n      <td>...</td>\n      <td>2.0</td>\n      <td>3.0</td>\n      <td>4.0</td>\n      <td>1.0</td>\n      <td>1.0</td>\n      <td>1.0</td>\n      <td>1.0</td>\n      <td>2.0</td>\n      <td>3.0</td>\n      <td>4.0</td>\n    </tr>\n    <tr>\n      <th>4</th>\n      <td>1.0</td>\n      <td>1.0</td>\n      <td>1.0</td>\n      <td>1.0</td>\n      <td>1.0</td>\n      <td>2.0</td>\n      <td>2.0</td>\n      <td>1.0</td>\n      <td>1.0</td>\n      <td>1.0</td>\n      <td>...</td>\n      <td>1.0</td>\n      <td>2.0</td>\n      <td>2.0</td>\n      <td>1.0</td>\n      <td>1.0</td>\n      <td>1.0</td>\n      <td>1.0</td>\n      <td>1.0</td>\n      <td>2.0</td>\n      <td>2.0</td>\n    </tr>\n    <tr>\n      <th>...</th>\n      <td>...</td>\n      <td>...</td>\n      <td>...</td>\n      <td>...</td>\n      <td>...</td>\n      <td>...</td>\n      <td>...</td>\n      <td>...</td>\n      <td>...</td>\n      <td>...</td>\n      <td>...</td>\n      <td>...</td>\n      <td>...</td>\n      <td>...</td>\n      <td>...</td>\n      <td>...</td>\n      <td>...</td>\n      <td>...</td>\n      <td>...</td>\n      <td>...</td>\n      <td>...</td>\n    </tr>\n    <tr>\n      <th>30485</th>\n      <td>1.0</td>\n      <td>1.0</td>\n      <td>1.0</td>\n      <td>1.0</td>\n      <td>1.0</td>\n      <td>1.0</td>\n      <td>1.0</td>\n      <td>1.0</td>\n      <td>1.0</td>\n      <td>1.0</td>\n      <td>...</td>\n      <td>1.0</td>\n      <td>1.0</td>\n      <td>1.0</td>\n      <td>1.0</td>\n      <td>1.0</td>\n      <td>1.0</td>\n      <td>1.0</td>\n      <td>1.0</td>\n      <td>1.0</td>\n      <td>1.0</td>\n    </tr>\n    <tr>\n      <th>30486</th>\n      <td>-0.0</td>\n      <td>-0.0</td>\n      <td>-0.0</td>\n      <td>-0.0</td>\n      <td>0.0</td>\n      <td>0.0</td>\n      <td>0.0</td>\n      <td>0.0</td>\n      <td>0.0</td>\n      <td>0.0</td>\n      <td>...</td>\n      <td>0.0</td>\n      <td>0.0</td>\n      <td>0.0</td>\n      <td>0.0</td>\n      <td>0.0</td>\n      <td>0.0</td>\n      <td>0.0</td>\n      <td>0.0</td>\n      <td>0.0</td>\n      <td>0.0</td>\n    </tr>\n    <tr>\n      <th>30487</th>\n      <td>1.0</td>\n      <td>1.0</td>\n      <td>1.0</td>\n      <td>1.0</td>\n      <td>1.0</td>\n      <td>1.0</td>\n      <td>1.0</td>\n      <td>0.0</td>\n      <td>0.0</td>\n      <td>1.0</td>\n      <td>...</td>\n      <td>1.0</td>\n      <td>1.0</td>\n      <td>1.0</td>\n      <td>0.0</td>\n      <td>0.0</td>\n      <td>1.0</td>\n      <td>0.0</td>\n      <td>1.0</td>\n      <td>1.0</td>\n      <td>1.0</td>\n    </tr>\n    <tr>\n      <th>30488</th>\n      <td>1.0</td>\n      <td>1.0</td>\n      <td>1.0</td>\n      <td>1.0</td>\n      <td>1.0</td>\n      <td>1.0</td>\n      <td>2.0</td>\n      <td>1.0</td>\n      <td>1.0</td>\n      <td>1.0</td>\n      <td>...</td>\n      <td>1.0</td>\n      <td>1.0</td>\n      <td>2.0</td>\n      <td>1.0</td>\n      <td>1.0</td>\n      <td>1.0</td>\n      <td>1.0</td>\n      <td>1.0</td>\n      <td>1.0</td>\n      <td>2.0</td>\n    </tr>\n    <tr>\n      <th>30489</th>\n      <td>1.0</td>\n      <td>2.0</td>\n      <td>1.0</td>\n      <td>1.0</td>\n      <td>2.0</td>\n      <td>3.0</td>\n      <td>2.0</td>\n      <td>2.0</td>\n      <td>2.0</td>\n      <td>2.0</td>\n      <td>...</td>\n      <td>2.0</td>\n      <td>3.0</td>\n      <td>2.0</td>\n      <td>2.0</td>\n      <td>2.0</td>\n      <td>2.0</td>\n      <td>2.0</td>\n      <td>2.0</td>\n      <td>3.0</td>\n      <td>2.0</td>\n    </tr>\n  </tbody>\n</table>\n<p>30490 rows × 28 columns</p>\n</div>"
     },
     "metadata": {},
     "execution_count": 364
    }
   ],
   "source": [
    "ydfPred"
   ]
  },
  {
   "cell_type": "code",
   "execution_count": null,
   "metadata": {},
   "outputs": [],
   "source": []
  }
 ]
}